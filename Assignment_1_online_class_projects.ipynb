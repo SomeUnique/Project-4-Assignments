{
  "nbformat": 4,
  "nbformat_minor": 0,
  "metadata": {
    "colab": {
      "provenance": [],
      "authorship_tag": "ABX9TyPINXMGFDzgpGO3y+GeMVyw",
      "include_colab_link": true
    },
    "kernelspec": {
      "name": "python3",
      "display_name": "Python 3"
    },
    "language_info": {
      "name": "python"
    }
  },
  "cells": [
    {
      "cell_type": "markdown",
      "metadata": {
        "id": "view-in-github",
        "colab_type": "text"
      },
      "source": [
        "<a href=\"https://colab.research.google.com/github/SomeUnique/Project-4-Assignments/blob/main/Assignment_1_online_class_projects.ipynb\" target=\"_parent\"><img src=\"https://colab.research.google.com/assets/colab-badge.svg\" alt=\"Open In Colab\"/></a>"
      ]
    },
    {
      "cell_type": "markdown",
      "source": [
        "# ***01_basics***\n",
        "\n",
        "---\n",
        "\n",
        "\n",
        "\n",
        "\n",
        "\n"
      ],
      "metadata": {
        "id": "N6pFfH6dTEXe"
      }
    },
    {
      "cell_type": "markdown",
      "source": [
        "# **00_joke_bot**\n",
        "---\n",
        "\n"
      ],
      "metadata": {
        "id": "44zARrYnTVw9"
      }
    },
    {
      "cell_type": "code",
      "execution_count": null,
      "metadata": {
        "colab": {
          "base_uri": "https://localhost:8080/"
        },
        "id": "_Juj5R5cTDIV",
        "outputId": "f73572e0-5409-4fe7-8986-4d8bc98aca05"
      },
      "outputs": [
        {
          "output_type": "stream",
          "name": "stdout",
          "text": [
            "What would you like? (Type 'Joke' for a joke): Joke\n",
            "Here is a joke for you! 🤖  \n",
            "Why did the neural network break up with the chatbot?  \n",
            "Because it found someone with better data compatibility! 😂\n"
          ]
        }
      ],
      "source": [
        "PROMPT = \"What would you like? (Type 'Joke' for a joke): \"\n",
        "JOKE = \"\"\"Here is a joke for you! 🤖\n",
        "Why did the neural network break up with the chatbot?\n",
        "Because it found someone with better data compatibility! 😂\"\"\"\n",
        "SORRY = \"Sorry, I only tell jokes.\"\n",
        "\n",
        "def main():\n",
        "    user_input = input(PROMPT)\n",
        "\n",
        "    if user_input == \"Joke\":\n",
        "        print(JOKE)\n",
        "    else:\n",
        "        print(SORRY)\n",
        "\n",
        "# Example usage\n",
        "main()\n"
      ]
    },
    {
      "cell_type": "markdown",
      "source": [
        "# **01_double_it**\n",
        "\n",
        "---\n",
        "\n"
      ],
      "metadata": {
        "id": "VXiySrHxUikP"
      }
    },
    {
      "cell_type": "code",
      "source": [
        "def main():\n",
        "\n",
        "    curr_value = int(input(\"Enter a number: \"))\n",
        "\n",
        "    while curr_value < 100:\n",
        "        curr_value *= 2\n",
        "        print(curr_value, end=\" \")\n",
        "\n",
        "    print()\n",
        "\n",
        "main()\n"
      ],
      "metadata": {
        "colab": {
          "base_uri": "https://localhost:8080/"
        },
        "id": "qipc_1vuUpSW",
        "outputId": "02096381-145b-453b-806f-c312f2969afe"
      },
      "execution_count": null,
      "outputs": [
        {
          "output_type": "stream",
          "name": "stdout",
          "text": [
            "Enter a number: 54\n",
            "108 \n"
          ]
        }
      ]
    },
    {
      "cell_type": "markdown",
      "source": [
        "# **02_liftoff**\n",
        "\n",
        "---\n",
        "\n"
      ],
      "metadata": {
        "id": "1c1XaeTPTe9w"
      }
    },
    {
      "cell_type": "code",
      "source": [
        "def countdown():\n",
        "    for i in range(10, 0, -1):\n",
        "        print(i, end=' ')\n",
        "    print(\"Liftoff!\")\n",
        "\n",
        "countdown()"
      ],
      "metadata": {
        "colab": {
          "base_uri": "https://localhost:8080/"
        },
        "id": "-CTUzRRXXqxN",
        "outputId": "01c6d68a-c94d-40c7-ba92-546ea96812ce"
      },
      "execution_count": null,
      "outputs": [
        {
          "output_type": "stream",
          "name": "stdout",
          "text": [
            "10 9 8 7 6 5 4 3 2 1 Liftoff!\n"
          ]
        }
      ]
    },
    {
      "cell_type": "markdown",
      "source": [
        "# **03_guess_my_number**\n",
        "\n",
        "---\n",
        "\n"
      ],
      "metadata": {
        "id": "IOyO35EJXuj9"
      }
    },
    {
      "cell_type": "code",
      "source": [
        "import random\n",
        "\n",
        "def main():\n",
        "\n",
        "    secret_number: int = random.randint(1, 99)\n",
        "\n",
        "    print(\"I am thinking of a number between 1 and 99...\")\n",
        "\n",
        "\n",
        "    guess = int(input(\"Enter a guess: \"))\n",
        "\n",
        "    while guess != secret_number:\n",
        "        if guess < secret_number:\n",
        "            print(\"Your guess is too low\")\n",
        "        else:\n",
        "            print(\"Your guess is too high\")\n",
        "\n",
        "        print()\n",
        "        guess: int = int(input(\"Enter a new guess: \"))\n",
        "\n",
        "    print(\"Congrats! The number was: \" + str(secret_number))\n",
        "\n",
        "if __name__ == '__main__':\n",
        "    main()\n"
      ],
      "metadata": {
        "colab": {
          "base_uri": "https://localhost:8080/"
        },
        "id": "vE83eaPaX18X",
        "outputId": "881b1257-cb74-43e9-e786-430aed83ee6f"
      },
      "execution_count": null,
      "outputs": [
        {
          "output_type": "stream",
          "name": "stdout",
          "text": [
            "I am thinking of a number between 1 and 99...\n",
            "Enter a guess: 55\n",
            "Your guess is too high\n",
            "\n",
            "Enter a new guess: 41\n",
            "Your guess is too high\n",
            "\n",
            "Enter a new guess: 10\n",
            "Your guess is too low\n",
            "\n",
            "Enter a new guess: 31\n",
            "Your guess is too high\n",
            "\n",
            "Enter a new guess: 21\n",
            "Congrats! The number was: 21\n"
          ]
        }
      ]
    },
    {
      "cell_type": "markdown",
      "source": [
        "# **04_random_numbers**\n",
        "\n",
        "---\n",
        "\n"
      ],
      "metadata": {
        "id": "LM0_3kaqZjaz"
      }
    },
    {
      "cell_type": "code",
      "source": [
        "import random\n",
        "\n",
        "def main():\n",
        "    for _ in range(10):\n",
        "        value = random.randint(1, 100)\n",
        "        print(value, end=\" \")\n",
        "\n",
        "    print()\n",
        "\n",
        "main()\n"
      ],
      "metadata": {
        "colab": {
          "base_uri": "https://localhost:8080/"
        },
        "id": "77DdJJZ8ZnUd",
        "outputId": "88ab5d6a-43dd-4b9f-ef45-fd10c6ac4b8d"
      },
      "execution_count": null,
      "outputs": [
        {
          "output_type": "stream",
          "name": "stdout",
          "text": [
            "54 21 57 66 89 43 54 95 60 1 \n"
          ]
        }
      ]
    },
    {
      "cell_type": "code",
      "source": [],
      "metadata": {
        "id": "Xu80OwJmaCmL"
      },
      "execution_count": null,
      "outputs": []
    },
    {
      "cell_type": "markdown",
      "source": [
        "# ***02_intermediate***\n",
        "\n",
        "\n"
      ],
      "metadata": {
        "id": "NiCPK_4GaEpc"
      }
    },
    {
      "cell_type": "markdown",
      "source": [
        "# **Control Flow for Console (High-Low Game)**\n",
        "\n",
        "---\n",
        "\n"
      ],
      "metadata": {
        "id": "wBTRWarAaKjx"
      }
    },
    {
      "cell_type": "code",
      "source": [
        "import random\n",
        "\n",
        "def play_round():\n",
        "\n",
        "    player_number = random.randint(1, 100)\n",
        "    computer_number = random.randint(1, 100)\n",
        "\n",
        "    print(f\"\\nYour number is: {player_number}\")\n",
        "\n",
        "    guess = input(\"Do you think your number is 'higher' or 'lower' than the computer's number? \").lower()\n",
        "\n",
        "    if (guess == \"higher\" and player_number > computer_number) or \\\n",
        "       (guess == \"lower\" and player_number < computer_number):\n",
        "        print(\"Correct! You get a point!\")\n",
        "        return 1\n",
        "    else:\n",
        "        print(f\"Wrong! The computer's number was: {computer_number}\")\n",
        "        return 0\n",
        "\n",
        "def main():\n",
        "    total_rounds = 5\n",
        "    score = 0\n",
        "\n",
        "    print(\"Welcome to the High-Low Game! 🎲\")\n",
        "\n",
        "\n",
        "    for round_number in range(1, total_rounds + 1):\n",
        "        print(f\"\\nRound {round_number} of {total_rounds}:\")\n",
        "        score += play_round()\n",
        "\n",
        "\n",
        "    print(f\"\\nGame Over! Your final score is: {score}/{total_rounds}\")\n",
        "\n",
        "\n",
        "main()\n"
      ],
      "metadata": {
        "id": "74hgFSUdaO2R",
        "colab": {
          "base_uri": "https://localhost:8080/"
        },
        "outputId": "589b69b5-b33b-4ab6-eace-0077926f259c"
      },
      "execution_count": null,
      "outputs": [
        {
          "output_type": "stream",
          "name": "stdout",
          "text": [
            "Welcome to the High-Low Game! 🎲\n",
            "\n",
            "Round 1 of 5:\n",
            "\n",
            "Your number is: 31\n",
            "Do you think your number is 'higher' or 'lower' than the computer's number? high\n",
            "Wrong! The computer's number was: 28\n",
            "\n",
            "Round 2 of 5:\n",
            "\n",
            "Your number is: 1\n",
            "Do you think your number is 'higher' or 'lower' than the computer's number? low\n",
            "Wrong! The computer's number was: 46\n",
            "\n",
            "Round 3 of 5:\n",
            "\n",
            "Your number is: 34\n",
            "Do you think your number is 'higher' or 'lower' than the computer's number? lower\n",
            "Correct! You get a point!\n",
            "\n",
            "Round 4 of 5:\n",
            "\n",
            "Your number is: 91\n",
            "Do you think your number is 'higher' or 'lower' than the computer's number? higher\n",
            "Correct! You get a point!\n",
            "\n",
            "Round 5 of 5:\n",
            "\n",
            "Your number is: 44\n",
            "Do you think your number is 'higher' or 'lower' than the computer's number? lower\n",
            "Correct! You get a point!\n",
            "\n",
            "Game Over! Your final score is: 3/5\n"
          ]
        }
      ]
    },
    {
      "cell_type": "markdown",
      "source": [
        "# **Intro to Python (Planetary Weight Calculator)**\n",
        "\n",
        "---\n",
        "\n"
      ],
      "metadata": {
        "id": "q5FJHJpthUXB"
      }
    },
    {
      "cell_type": "code",
      "source": [
        "def main():\n",
        "    # Prompt user for their weight on Earth\n",
        "    earth_weight = float(input(\"Enter your weight on Earth (in kg): \"))\n",
        "\n",
        "    # Mars gravity is 37.8% of Earth's gravity\n",
        "    mars_gravity_factor = 0.378\n",
        "    mars_weight = round(earth_weight * mars_gravity_factor, 2)\n",
        "\n",
        "    # Print the result\n",
        "    print(f\"Your weight on Mars would be: {mars_weight} kg\")\n",
        "\n",
        "# Run the program\n",
        "if __name__ == \"__main__\":\n",
        "    main()\n",
        "\n"
      ],
      "metadata": {
        "id": "Zzee0EjehdK2",
        "colab": {
          "base_uri": "https://localhost:8080/"
        },
        "outputId": "f22747a9-36cb-4614-8778-dd64beab3935"
      },
      "execution_count": 2,
      "outputs": [
        {
          "output_type": "stream",
          "name": "stdout",
          "text": [
            "Enter your weight on Earth (in kg): 57\n",
            "Your weight on Mars would be: 21.55 kg\n"
          ]
        }
      ]
    },
    {
      "cell_type": "markdown",
      "source": [
        "# **Milestone 2**"
      ],
      "metadata": {
        "id": "xLxaXhUefwFJ"
      }
    },
    {
      "cell_type": "code",
      "source": [
        "def main():\n",
        "\n",
        "    gravity_factors = {\n",
        "        \"Mercury\": 0.376,\n",
        "        \"Venus\": 0.889,\n",
        "        \"Mars\": 0.378,\n",
        "        \"Jupiter\": 2.36,\n",
        "        \"Saturn\": 1.081,\n",
        "        \"Uranus\": 0.815,\n",
        "        \"Neptune\": 1.14\n",
        "    }\n",
        "\n",
        "    earth_weight = float(input(\"Enter your weight on Earth (in kg): \"))\n",
        "\n",
        "    planet = input(\"Enter the name of a planet (First Letter in Capital): \")\n",
        "\n",
        "    factor = gravity_factors[planet]\n",
        "\n",
        "    planet_weight = round(earth_weight * factor, 2)\n",
        "\n",
        "    print(f\"Your weight on {planet} would be: {planet_weight} kg\")\n",
        "\n",
        "\n",
        "if __name__ == \"__main__\":\n",
        "    main()\n"
      ],
      "metadata": {
        "colab": {
          "base_uri": "https://localhost:8080/"
        },
        "id": "Ki5rkchcfzDR",
        "outputId": "c20fcec3-1a1c-444f-b868-2065c25bba86"
      },
      "execution_count": 8,
      "outputs": [
        {
          "output_type": "stream",
          "name": "stdout",
          "text": [
            "Enter your weight on Earth (in kg): 137\n",
            "Enter the name of a planet (First Letter in Capital): Saturn\n",
            "Your weight on Saturn would be: 148.1 kg\n"
          ]
        }
      ]
    },
    {
      "cell_type": "code",
      "source": [],
      "metadata": {
        "id": "CkcLLtlhhKau"
      },
      "execution_count": null,
      "outputs": []
    },
    {
      "cell_type": "markdown",
      "source": [
        "# **Lists and Dicts**\n",
        "\n",
        "---\n",
        "\n"
      ],
      "metadata": {
        "id": "awhenVMthMTa"
      }
    },
    {
      "cell_type": "code",
      "source": [
        "def main():\n",
        "\n",
        "    fruit_list = ['apple', 'banana', 'orange', 'grape', 'pineapple']\n",
        "\n",
        "    lst_length = len(fruit_lst)\n",
        "    print(lst_length)\n",
        "\n",
        "    fruit_lst.append('mango')\n",
        "\n",
        "    for fruit in fruit_lst:\n",
        "       print(fruit)\n",
        "\n",
        "\n",
        ""
      ],
      "metadata": {
        "id": "_tI5Y5Y2hQI2"
      },
      "execution_count": 24,
      "outputs": []
    },
    {
      "cell_type": "markdown",
      "source": [
        "# **Index Game Solution**"
      ],
      "metadata": {
        "id": "O4Ufc5pViS4v"
      }
    },
    {
      "cell_type": "code",
      "source": [
        "def access_element(lst, index):\n",
        "    try:\n",
        "        return lst[index]\n",
        "    except IndexError:\n",
        "        return \"Index out of range.\"\n",
        "\n",
        "def modify_element(lst, index, new_value):\n",
        "    try:\n",
        "        lst[index] = new_value\n",
        "        return lst\n",
        "    except IndexError:\n",
        "        return \"Index out of range.\"\n",
        "\n",
        "def slice_list(lst, start, end):\n",
        "    try:\n",
        "        return lst[start:end]\n",
        "    except IndexError:\n",
        "        return \"Invalid indices.\"\n",
        "\n",
        "def index_game():\n",
        "    lst = [1, 2, 3, 4, 5]  # Example list\n",
        "    print(\"Current list:\", lst)\n",
        "    print(\"Choose an operation: access, modify, slice\")\n",
        "    operation = input(\"Enter operation: \")\n",
        "\n",
        "    if operation == \"access\":\n",
        "        index = int(input(\"Enter index to access: \"))\n",
        "        print(access_element(lst, index))\n",
        "    elif operation == \"modify\":\n",
        "        index = int(input(\"Enter index to modify: \"))\n",
        "        new_value = input(\"Enter new value: \")\n",
        "        print(modify_element(lst, index, new_value))\n",
        "    elif operation == \"slice\":\n",
        "        start = int(input(\"Enter start index: \"))\n",
        "        end = int(input(\"Enter end index: \"))\n",
        "        print(slice_list(lst, start, end))\n",
        "    else:\n",
        "        print(\"Invalid operation.\")\n",
        "\n",
        "index_game()\n"
      ],
      "metadata": {
        "colab": {
          "base_uri": "https://localhost:8080/"
        },
        "id": "TYGmxZoniawS",
        "outputId": "5506f203-1fe7-408d-f4e3-7360483f4eba"
      },
      "execution_count": 21,
      "outputs": [
        {
          "output_type": "stream",
          "name": "stdout",
          "text": [
            "Current list: [1, 2, 3, 4, 5]\n",
            "Choose an operation: access, modify, slice\n",
            "Enter operation: access\n",
            "Enter index to access: 3\n",
            "4\n"
          ]
        }
      ]
    }
  ]
}