{
  "nbformat": 4,
  "nbformat_minor": 0,
  "metadata": {
    "colab": {
      "provenance": [],
      "authorship_tag": "ABX9TyMg7lQR+jc4nAtjGjbEl3Su",
      "include_colab_link": true
    },
    "kernelspec": {
      "name": "python3",
      "display_name": "Python 3"
    },
    "language_info": {
      "name": "python"
    }
  },
  "cells": [
    {
      "cell_type": "markdown",
      "metadata": {
        "id": "view-in-github",
        "colab_type": "text"
      },
      "source": [
        "<a href=\"https://colab.research.google.com/github/SomeUnique/Project-4-Assignments/blob/main/00_intro_python.ipynb\" target=\"_parent\"><img src=\"https://colab.research.google.com/assets/colab-badge.svg\" alt=\"Open In Colab\"/></a>"
      ]
    },
    {
      "cell_type": "markdown",
      "source": [
        "# **01_add_two_numbers**\n",
        "\n",
        "---\n",
        "\n"
      ],
      "metadata": {
        "id": "XYM7Y1xj8RqW"
      }
    },
    {
      "cell_type": "code",
      "source": [
        "def main():\n",
        "  first_number = int(input(\"Enter the first number: \"))\n",
        "  second_number = int(input(\"Enter the second number: \"))\n",
        "  total_sum = first_number + second_number\n",
        "  print(f\"The sum of {first_number} and {second_number} is {total_sum}.\")\n",
        "if __name__ == '__main__':\n",
        "    main()\n"
      ],
      "metadata": {
        "colab": {
          "base_uri": "https://localhost:8080/"
        },
        "id": "3I7HUs1384-D",
        "outputId": "a1cbe30c-1ffb-463e-f1e2-7344aff8da69"
      },
      "execution_count": null,
      "outputs": [
        {
          "output_type": "stream",
          "name": "stdout",
          "text": [
            "Enter the first number: 19\n",
            "Enter the second number: 125\n",
            "The sum of 19 and 125 is 144.\n"
          ]
        }
      ]
    },
    {
      "cell_type": "markdown",
      "source": [
        "# **02_agreement_bot**\n",
        "\n",
        "---\n",
        "\n"
      ],
      "metadata": {
        "id": "DK2yeWIm9c4K"
      }
    },
    {
      "cell_type": "code",
      "source": [
        "def main():\n",
        "  favorite_animal = input(\"What is your favorite animal? \")\n",
        "  print(f\"My favorite animal is also {favorite_animal}!\")\n",
        "\n",
        "if __name__ == '__main__':\n",
        "    main()"
      ],
      "metadata": {
        "colab": {
          "base_uri": "https://localhost:8080/"
        },
        "id": "p67Bw66o9kW1",
        "outputId": "f70ddb8f-1841-46fc-9faa-30ad50c416d6"
      },
      "execution_count": null,
      "outputs": [
        {
          "output_type": "stream",
          "name": "stdout",
          "text": [
            "What is your favorite animal? Horse\n",
            "My favorite animal is also Horse!\n"
          ]
        }
      ]
    },
    {
      "cell_type": "markdown",
      "source": [
        "# **03_fahrenheit_to_celsius**\n",
        "\n",
        "---\n",
        "\n"
      ],
      "metadata": {
        "id": "FNg_UteD-GU1"
      }
    },
    {
      "cell_type": "code",
      "source": [
        "def main():\n",
        "  fahrenheit = float(input(\"Enter the temperature in Fahrenheit: \"))\n",
        "  celsius = (fahrenheit - 32) * 5.0 / 9.0\n",
        "  print(f\"The temperature in Celsius is {celsius:.2f}°C.\")\n",
        "\n",
        "if __name__ == '__main__':\n",
        "    main()"
      ],
      "metadata": {
        "colab": {
          "base_uri": "https://localhost:8080/"
        },
        "id": "GPkqhHRH-MB3",
        "outputId": "ba0d4add-0fa2-4426-e3cf-36e903dce81c"
      },
      "execution_count": null,
      "outputs": [
        {
          "output_type": "stream",
          "name": "stdout",
          "text": [
            "Enter the temperature in Fahrenheit: 79\n",
            "The temperature in Celsius is 26.11°C.\n"
          ]
        }
      ]
    },
    {
      "cell_type": "markdown",
      "source": [
        "# **04_how_old_are_they**\n",
        "\n",
        "---\n",
        "\n"
      ],
      "metadata": {
        "id": "NvB-_J0J-sdZ"
      }
    },
    {
      "cell_type": "code",
      "source": [
        "def main():\n",
        "    park : int = 25\n",
        "    song : int = 10 + park\n",
        "    chen : int = 26 + song\n",
        "    jacki  : int= chen + park\n",
        "    josh : int = chen\n",
        "    print(\"Park is \" + str(park))\n",
        "    print(\"Song is \" + str(song))\n",
        "    print(\"Chen is \" + str(chen))\n",
        "    print(\"Jacki is \" + str(jacki))\n",
        "    print(\"Josh is \" + str(josh))\n",
        "\n",
        "if __name__ == '__main__':\n",
        "    main()"
      ],
      "metadata": {
        "colab": {
          "base_uri": "https://localhost:8080/"
        },
        "id": "8BfV4pXg-uQ3",
        "outputId": "92d23a18-9aa3-4922-d743-96a0157d6cdb"
      },
      "execution_count": null,
      "outputs": [
        {
          "output_type": "stream",
          "name": "stdout",
          "text": [
            "Park is 25\n",
            "Song is 35\n",
            "Chen is 61\n",
            "Jacki is 86\n",
            "Josh is 61\n"
          ]
        }
      ]
    },
    {
      "cell_type": "markdown",
      "source": [
        "# **05_triangle_perimeter**\n",
        "\n",
        "---\n",
        "\n"
      ],
      "metadata": {
        "id": "vcnuuwAk_tzN"
      }
    },
    {
      "cell_type": "code",
      "source": [
        "def main():\n",
        "  side1 = float(input(\"Enter the length of the first side: \"))\n",
        "  side2 = float(input(\"Enter the length of the second side: \"))\n",
        "  side3 = float(input(\"Enter the length of the third side: \"))\n",
        "  perimeter = side1 + side2 + side3\n",
        "  print(f\"The perimeter of the triangle is {perimeter}.\")\n",
        "\n",
        "if __name__ == '__main__':\n",
        "    main()"
      ],
      "metadata": {
        "colab": {
          "base_uri": "https://localhost:8080/"
        },
        "id": "pSp20DCl_1R7",
        "outputId": "c28e478d-b2a4-437d-a71d-0f881926ab61"
      },
      "execution_count": null,
      "outputs": [
        {
          "output_type": "stream",
          "name": "stdout",
          "text": [
            "Enter the length of the first side: 6.2\n",
            "Enter the length of the second side: 10\n",
            "Enter the length of the third side: 9\n",
            "The perimeter of the triangle is 25.2.\n"
          ]
        }
      ]
    },
    {
      "cell_type": "markdown",
      "source": [
        "# **06_square_number**\n",
        "\n",
        "---\n",
        "\n"
      ],
      "metadata": {
        "id": "HSm5aHJzAWHK"
      }
    },
    {
      "cell_type": "code",
      "source": [
        "def main():\n",
        "  number = float(input(\"Enter a number: \"))\n",
        "  square = number * number\n",
        "  print(f\"The square of {number} is {square}.\")\n",
        "\n",
        "if __name__ == '__main__':\n",
        "    main()"
      ],
      "metadata": {
        "colab": {
          "base_uri": "https://localhost:8080/"
        },
        "id": "BWGDEUF1Aci0",
        "outputId": "7e98cd77-a4a8-4656-ebc0-bdde0bf0db36"
      },
      "execution_count": null,
      "outputs": [
        {
          "output_type": "stream",
          "name": "stdout",
          "text": [
            "Enter a number: 18\n",
            "The square of 18.0 is 324.0.\n"
          ]
        }
      ]
    }
  ]
}