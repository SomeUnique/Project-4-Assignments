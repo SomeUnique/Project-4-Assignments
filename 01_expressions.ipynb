{
  "nbformat": 4,
  "nbformat_minor": 0,
  "metadata": {
    "colab": {
      "provenance": [],
      "authorship_tag": "ABX9TyPyOKa7BjFy/agNu2/eyXii",
      "include_colab_link": true
    },
    "kernelspec": {
      "name": "python3",
      "display_name": "Python 3"
    },
    "language_info": {
      "name": "python"
    }
  },
  "cells": [
    {
      "cell_type": "markdown",
      "metadata": {
        "id": "view-in-github",
        "colab_type": "text"
      },
      "source": [
        "<a href=\"https://colab.research.google.com/github/SomeUnique/Project-4-Assignments/blob/main/01_expressions.ipynb\" target=\"_parent\"><img src=\"https://colab.research.google.com/assets/colab-badge.svg\" alt=\"Open In Colab\"/></a>"
      ]
    },
    {
      "cell_type": "markdown",
      "source": [
        "# **01_dicesimulator**\n",
        "\n",
        "---\n",
        "\n"
      ],
      "metadata": {
        "id": "S7fQPY8tIrd8"
      }
    },
    {
      "cell_type": "code",
      "source": [
        "import random\n",
        "total_rolls = 3\n",
        "\n",
        "def roll_dice():\n",
        "\n",
        "    die1 = random.randint(1, 6)\n",
        "    die2 = random.randint(1, 6)\n",
        "    return die1, die2\n",
        "\n",
        "def main():\n",
        "    for roll_number in range(1, total_rolls + 1):\n",
        "        die1, die2 = roll_dice()\n",
        "        print(f\"Roll {roll_number}: Die 1 = {die1}, Die 2 = {die2}\")\n",
        "main()\n"
      ],
      "metadata": {
        "colab": {
          "base_uri": "https://localhost:8080/"
        },
        "id": "7XVzToCDIuZ4",
        "outputId": "3eb78215-04c4-4b5c-a3f6-8d746063f5a8"
      },
      "execution_count": 1,
      "outputs": [
        {
          "output_type": "stream",
          "name": "stdout",
          "text": [
            "Roll 1: Die 1 = 3, Die 2 = 6\n",
            "Roll 2: Die 1 = 4, Die 2 = 3\n",
            "Roll 3: Die 1 = 4, Die 2 = 6\n"
          ]
        }
      ]
    },
    {
      "cell_type": "markdown",
      "source": [
        "# **02_e=mc2**\n",
        "\n",
        "---\n",
        "\n"
      ],
      "metadata": {
        "id": "jgAwldKkLyja"
      }
    },
    {
      "cell_type": "code",
      "source": [
        "C: int = 299792458\n",
        "\n",
        "def main():\n",
        "    mass_in_kg: float = float(input(\"Enter kilos of mass: \"))\n",
        "    energy_in_joules: float = mass_in_kg * (C ** 2)\n",
        "    print(\"e = m * C^2...\")\n",
        "    print(\"m = \" + str(mass_in_kg) + \" kg\")\n",
        "    print(\"C = \" + str(C) + \" m/s\")\n",
        "    print(str(energy_in_joules) + \" joules of energy!\")\n",
        "\n",
        "if __name__ == '__main__':\n",
        "    main()"
      ],
      "metadata": {
        "colab": {
          "base_uri": "https://localhost:8080/"
        },
        "id": "iO3x5dptL4_7",
        "outputId": "c2214b8a-2e6d-48e2-ef0b-52e6f5093584"
      },
      "execution_count": 2,
      "outputs": [
        {
          "output_type": "stream",
          "name": "stdout",
          "text": [
            "Enter kilos of mass: 192\n",
            "e = m * C^2...\n",
            "m = 192.0 kg\n",
            "C = 299792458 m/s\n",
            "1.7256099431746898e+19 joules of energy!\n"
          ]
        }
      ]
    },
    {
      "cell_type": "markdown",
      "source": [
        "# **03_feet_to_inches**\n",
        "\n",
        "---\n",
        "\n"
      ],
      "metadata": {
        "id": "jKoRiAyYMFHm"
      }
    },
    {
      "cell_type": "code",
      "source": [
        "def main():\n",
        "    INCHES_PER_FOOT = 12\n",
        "    feet = float(input(\"Enter the measurement in feet: \"))\n",
        "    inches = feet * INCHES_PER_FOOT\n",
        "    print(f\"{feet} feet is equal to {inches} inches.\")\n",
        "\n",
        "if __name__ == '__main__':\n",
        "    main()"
      ],
      "metadata": {
        "colab": {
          "base_uri": "https://localhost:8080/"
        },
        "id": "bmbaP8m9MK_q",
        "outputId": "38ba7e31-63d2-4db0-e249-dc6bc170e1c5"
      },
      "execution_count": 3,
      "outputs": [
        {
          "output_type": "stream",
          "name": "stdout",
          "text": [
            "Enter the measurement in feet: 10.2\n",
            "10.2 feet is equal to 122.39999999999999 inches.\n"
          ]
        }
      ]
    },
    {
      "cell_type": "markdown",
      "source": [
        "# **04_pythagorean_theorem**\n",
        "\n",
        "---\n",
        "\n"
      ],
      "metadata": {
        "id": "Ca_QjRz3MfWG"
      }
    },
    {
      "cell_type": "code",
      "source": [
        "import math\n",
        "def main():\n",
        "  side_ab = float(input(\"Enter the length of side AB: \"))\n",
        "  side_ac = float(input(\"Enter the length of side AC: \"))\n",
        "  hypotenuse_bc = math.sqrt(side_ab**2 + side_ac**2)\n",
        "  print(f\"The length of the hypotenuse (BC) is {hypotenuse_bc:.2f}.\")\n",
        "\n",
        "if __name__ == '__main__':\n",
        "    main()"
      ],
      "metadata": {
        "colab": {
          "base_uri": "https://localhost:8080/"
        },
        "id": "Z3TRMJDTMmcI",
        "outputId": "50fa7e33-061d-43ea-b40f-4b88deec66da"
      },
      "execution_count": 4,
      "outputs": [
        {
          "output_type": "stream",
          "name": "stdout",
          "text": [
            "Enter the length of side AB: 15\n",
            "Enter the length of side AC: 25\n",
            "The length of the hypotenuse (BC) is 29.15.\n"
          ]
        }
      ]
    },
    {
      "cell_type": "markdown",
      "source": [
        "# **05_remainder_division**\n",
        "\n",
        "---\n",
        "\n"
      ],
      "metadata": {
        "id": "cpVnUWD8NMBq"
      }
    },
    {
      "cell_type": "code",
      "source": [
        "def main():\n",
        "  num1 = float(input(\"Enter the first number: \"))\n",
        "  num2 = float(input(\"Enter the second number: \"))\n",
        "  quotient = num1 // num2\n",
        "  remainder = num1 % num2\n",
        "  print(f\"The quotient of {num1} divided by {num2} is {quotient}.\")\n",
        "  print(f\"The remainder of {num1} divided by {num2} is {remainder}.\")\n",
        "\n",
        "if __name__ == '__main__':\n",
        "    main()"
      ],
      "metadata": {
        "colab": {
          "base_uri": "https://localhost:8080/"
        },
        "id": "OuA1FfchNc7N",
        "outputId": "4d48b119-4ef9-49dd-f40c-97afe24b7c43"
      },
      "execution_count": 5,
      "outputs": [
        {
          "output_type": "stream",
          "name": "stdout",
          "text": [
            "Enter the first number: 91\n",
            "Enter the second number: 25\n",
            "The quotient of 91.0 divided by 25.0 is 3.0.\n",
            "The remainder of 91.0 divided by 25.0 is 16.0.\n"
          ]
        }
      ]
    },
    {
      "cell_type": "markdown",
      "source": [
        "# **06_rolldice**\n",
        "\n",
        "---\n",
        "\n"
      ],
      "metadata": {
        "id": "D4azDMYVNv_v"
      }
    },
    {
      "cell_type": "code",
      "source": [
        "import random\n",
        "\n",
        "NUM_SIDES: int = 6\n",
        "\n",
        "def main():\n",
        "    die1: int = random.randint(1, NUM_SIDES)\n",
        "    die2: int = random.randint(1, NUM_SIDES)\n",
        "    total: int = die1 + die2\n",
        "    print(\"Dice have\", NUM_SIDES, \"sides each.\")\n",
        "    print(\"First die:\", die1)\n",
        "    print(\"Second die:\", die2)\n",
        "    print(\"Total of two dice:\", total)\n",
        "\n",
        "if __name__ == '__main__':\n",
        "    main()\n"
      ],
      "metadata": {
        "colab": {
          "base_uri": "https://localhost:8080/"
        },
        "id": "mt-WV14jSrcy",
        "outputId": "d6b9d715-f64b-4db1-e487-d7cc2d199d08"
      },
      "execution_count": 6,
      "outputs": [
        {
          "output_type": "stream",
          "name": "stdout",
          "text": [
            "Dice have 6 sides each.\n",
            "First die: 3\n",
            "Second die: 5\n",
            "Total of two dice: 8\n"
          ]
        }
      ]
    },
    {
      "cell_type": "markdown",
      "source": [
        "# **06_seconds_in_year**\n",
        "\n",
        "---\n",
        "\n"
      ],
      "metadata": {
        "id": "jdoaU9HnTD0O"
      }
    },
    {
      "cell_type": "code",
      "source": [
        "DAYS_IN_YEAR = 365\n",
        "HOURS_IN_DAY = 24\n",
        "MINUTES_IN_HOUR = 60\n",
        "SECONDS_IN_MINUTE = 60\n",
        "\n",
        "def main():\n",
        "    seconds_in_year = DAYS_IN_YEAR * HOURS_IN_DAY * MINUTES_IN_HOUR * SECONDS_IN_MINUTE\n",
        "    print(f\"There are {seconds_in_year} seconds in a year!\")\n",
        "\n",
        "if __name__ == '__main__':\n",
        "    main()"
      ],
      "metadata": {
        "colab": {
          "base_uri": "https://localhost:8080/"
        },
        "id": "0ZDogyt4TQl7",
        "outputId": "f8c8db61-4388-4a5c-a0ba-1bfa6400037d"
      },
      "execution_count": 9,
      "outputs": [
        {
          "output_type": "stream",
          "name": "stdout",
          "text": [
            "There are 31536000 seconds in a year!\n"
          ]
        }
      ]
    },
    {
      "cell_type": "markdown",
      "source": [
        "# **07_tiny_mad_lib**\n",
        "\n",
        "---\n",
        "\n"
      ],
      "metadata": {
        "id": "0dojRvKlTuof"
      }
    },
    {
      "cell_type": "code",
      "source": [
        "SENTENCE_START = \"The\"\n",
        "\n",
        "def main():\n",
        "    adjective = input(\"Enter an adjective: \")\n",
        "    noun = input(\"Enter a noun: \")\n",
        "    verb = input(\"Enter a verb: \")\n",
        "    final_sentence = f\"{SENTENCE_START} {adjective} {noun} decided to {verb}.\"\n",
        "    print(final_sentence)\n",
        "\n",
        "if __name__ == '__main__':\n",
        "    main()"
      ],
      "metadata": {
        "colab": {
          "base_uri": "https://localhost:8080/"
        },
        "id": "gQwJKWkUTwhV",
        "outputId": "3c80d364-5341-4cb9-ff52-835b99ee11b9"
      },
      "execution_count": 11,
      "outputs": [
        {
          "output_type": "stream",
          "name": "stdout",
          "text": [
            "Enter an adjective: dancing\n",
            "Enter a noun: panda\n",
            "Enter a verb: to act cute\n",
            "The dancing panda decided to to act cute.\n"
          ]
        }
      ]
    }
  ]
}