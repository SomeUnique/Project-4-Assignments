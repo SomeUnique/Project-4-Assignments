{
  "nbformat": 4,
  "nbformat_minor": 0,
  "metadata": {
    "colab": {
      "provenance": [],
      "authorship_tag": "ABX9TyPxed3lcqJmEddi+Ob6C15Z",
      "include_colab_link": true
    },
    "kernelspec": {
      "name": "python3",
      "display_name": "Python 3"
    },
    "language_info": {
      "name": "python"
    }
  },
  "cells": [
    {
      "cell_type": "markdown",
      "metadata": {
        "id": "view-in-github",
        "colab_type": "text"
      },
      "source": [
        "<a href=\"https://colab.research.google.com/github/SomeUnique/Project-4-Assignments/blob/main/05_loops_control_flow.ipynb\" target=\"_parent\"><img src=\"https://colab.research.google.com/assets/colab-badge.svg\" alt=\"Open In Colab\"/></a>"
      ]
    },
    {
      "cell_type": "markdown",
      "source": [
        "# **00_guess_my_number**\n",
        "\n",
        "---\n",
        "\n"
      ],
      "metadata": {
        "id": "QCpRBv0z5JGP"
      }
    },
    {
      "cell_type": "code",
      "source": [
        "import random\n",
        "\n",
        "def main():\n",
        "\n",
        "    secret_number = random.randint(1, 99)\n",
        "\n",
        "    print(\"I am thinking of a number between 1 and 99...\")\n",
        "\n",
        "    guess = int(input(\"Enter a guess: \"))\n",
        "\n",
        "    while guess != secret_number:\n",
        "        if guess < secret_number:\n",
        "            print(\"Your guess is too low\")\n",
        "        else:\n",
        "            print(\"Your guess is too high\")\n",
        "\n",
        "        print()\n",
        "        guess = int(input(\"Enter a new guess: \"))\n",
        "\n",
        "    print(\"Congrats! The number was: \" + str(secret_number))\n",
        "\n",
        "if __name__ == '__main__':\n",
        "    main()"
      ],
      "metadata": {
        "colab": {
          "base_uri": "https://localhost:8080/"
        },
        "id": "BcR6hIvZ5NKn",
        "outputId": "b3edce15-28a0-4956-ce85-2a692ad5e9e6"
      },
      "execution_count": 8,
      "outputs": [
        {
          "output_type": "stream",
          "name": "stdout",
          "text": [
            "I am thinking of a number between 1 and 99...\n",
            "Enter a guess: 50\n",
            "Your guess is too low\n",
            "\n",
            "Enter a new guess: 67\n",
            "Your guess is too low\n",
            "\n",
            "Enter a new guess: 78\n",
            "Your guess is too low\n",
            "\n",
            "Enter a new guess: 99\n",
            "Your guess is too high\n",
            "\n",
            "Enter a new guess: 81\n",
            "Congrats! The number was: 81\n"
          ]
        }
      ]
    },
    {
      "cell_type": "markdown",
      "source": [
        "# **01_fibonacci**\n",
        "\n",
        "---\n",
        "\n"
      ],
      "metadata": {
        "id": "g6AHmiO66oTo"
      }
    },
    {
      "cell_type": "code",
      "source": [
        "MAX_TERM_VALUE : int = 500\n",
        "\n",
        "def main():\n",
        "    curr_term =\n",
        "    next_term = 1\n",
        "    while curr_term <= MAX_TERM_VALUE:\n",
        "        print(curr_term)\n",
        "        term_after_next = curr_term + next_term\n",
        "        curr_term = next_term\n",
        "        next_term = term_after_next\n",
        "\n",
        "if __name__ == '__main__':\n",
        "    main()"
      ],
      "metadata": {
        "colab": {
          "base_uri": "https://localhost:8080/"
        },
        "id": "bOwsU-Vi6t19",
        "outputId": "abe561ce-44e1-49df-eba6-b3bc52762760"
      },
      "execution_count": 9,
      "outputs": [
        {
          "output_type": "stream",
          "name": "stdout",
          "text": [
            "0\n",
            "1\n",
            "1\n",
            "2\n",
            "3\n",
            "5\n",
            "8\n",
            "13\n",
            "21\n",
            "34\n",
            "55\n",
            "89\n",
            "144\n",
            "233\n",
            "377\n"
          ]
        }
      ]
    },
    {
      "cell_type": "markdown",
      "source": [
        "# **02_print_events**\n",
        "\n",
        "---\n",
        "\n"
      ],
      "metadata": {
        "id": "s5zOhIDx60rc"
      }
    },
    {
      "cell_type": "code",
      "source": [
        "def main():\n",
        "\n",
        "    for i in range(20):\n",
        "        print(i * 2)\n",
        "\n",
        "if __name__ == \"__main__\":\n",
        "    main()"
      ],
      "metadata": {
        "colab": {
          "base_uri": "https://localhost:8080/"
        },
        "id": "KzwvwXd-67HN",
        "outputId": "790aaf5d-fe82-42ff-f06b-f75a8e3d5484"
      },
      "execution_count": 10,
      "outputs": [
        {
          "output_type": "stream",
          "name": "stdout",
          "text": [
            "0\n",
            "2\n",
            "4\n",
            "6\n",
            "8\n",
            "10\n",
            "12\n",
            "14\n",
            "16\n",
            "18\n",
            "20\n",
            "22\n",
            "24\n",
            "26\n",
            "28\n",
            "30\n",
            "32\n",
            "34\n",
            "36\n",
            "38\n"
          ]
        }
      ]
    },
    {
      "cell_type": "markdown",
      "source": [
        "# **03_wholesome_machine**\n",
        "\n",
        "---\n",
        "\n"
      ],
      "metadata": {
        "id": "Uk6-dAOr7HV_"
      }
    },
    {
      "cell_type": "code",
      "source": [
        "AFFIRMATION : str = \"The only person who can limit you is you.\"\n",
        "\n",
        "def main():\n",
        "    print(\"Please type the following affirmation: \" + AFFIRMATION)\n",
        "\n",
        "    user_feedback = input()\n",
        "    while user_feedback != AFFIRMATION:\n",
        "\n",
        "        print(\"That was not the affirmation.\")\n",
        "\n",
        "        # Ask the user to type the affirmation again!\n",
        "        print(\"Please type the following affirmation: \" + AFFIRMATION)\n",
        "        user_feedback = input()\n",
        "\n",
        "    print(\"That's right! :)\")\n",
        "\n",
        "\n",
        "# There is no need to edit code beyond this point\n",
        "\n",
        "if __name__ == '__main__':\n",
        "    main()"
      ],
      "metadata": {
        "colab": {
          "base_uri": "https://localhost:8080/"
        },
        "id": "ktNbkYr07MQn",
        "outputId": "11ba7f0e-5b7c-410c-8fd5-766cd6f489ab"
      },
      "execution_count": 11,
      "outputs": [
        {
          "output_type": "stream",
          "name": "stdout",
          "text": [
            "Please type the following affirmation: The only person who can limit you is you.\n",
            "The only person who can limit you is you.\n",
            "That's right! :)\n"
          ]
        }
      ]
    },
    {
      "cell_type": "markdown",
      "source": [
        "# **04_liftoff**\n",
        "\n",
        "---\n",
        "\n"
      ],
      "metadata": {
        "id": "VLBqqPCD763U"
      }
    },
    {
      "cell_type": "code",
      "source": [
        "def countdown():\n",
        "    for i in range(10, 0, -1):\n",
        "        print(i, end=' ')\n",
        "    print(\"Liftoff!\")\n",
        "\n",
        "countdown()\n"
      ],
      "metadata": {
        "colab": {
          "base_uri": "https://localhost:8080/"
        },
        "id": "SHBQhXO28AMz",
        "outputId": "3c5e4388-e169-463a-8b58-2a0a4856bead"
      },
      "execution_count": 12,
      "outputs": [
        {
          "output_type": "stream",
          "name": "stdout",
          "text": [
            "10 9 8 7 6 5 4 3 2 1 Liftoff!\n"
          ]
        }
      ]
    },
    {
      "cell_type": "markdown",
      "source": [
        "# **05_double_it**\n",
        "\n",
        "---\n",
        "\n"
      ],
      "metadata": {
        "id": "YKWgYXLV8QfB"
      }
    },
    {
      "cell_type": "code",
      "source": [
        "def double_until_100():\n",
        "\n",
        "    curr_value = int(input(\"Enter a number which is less then 100: \"))\n",
        "\n",
        "    while curr_value < 100:\n",
        "        curr_value *= 2\n",
        "        print(curr_value, end=' ')\n",
        "\n",
        "    print()\n",
        "\n",
        "double_until_100()\n"
      ],
      "metadata": {
        "colab": {
          "base_uri": "https://localhost:8080/"
        },
        "id": "imUWixC68Vij",
        "outputId": "825b2244-d3df-44fa-f86e-70ef649df567"
      },
      "execution_count": 15,
      "outputs": [
        {
          "output_type": "stream",
          "name": "stdout",
          "text": [
            "Enter a number which is less then 100: 85\n",
            "170 \n"
          ]
        }
      ]
    }
  ]
}